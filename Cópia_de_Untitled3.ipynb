{
  "nbformat": 4,
  "nbformat_minor": 0,
  "metadata": {
    "colab": {
      "name": "Cópia de Untitled3.ipynb",
      "provenance": [],
      "authorship_tag": "ABX9TyNkS7yc57HCQ3iaiAkgCOWp",
      "include_colab_link": true
    },
    "kernelspec": {
      "name": "python3",
      "display_name": "Python 3"
    },
    "language_info": {
      "name": "python"
    }
  },
  "cells": [
    {
      "cell_type": "markdown",
      "metadata": {
        "id": "view-in-github",
        "colab_type": "text"
      },
      "source": [
        "<a href=\"https://colab.research.google.com/github/souza2045/souza2045/blob/main/C%C3%B3pia_de_Untitled3.ipynb\" target=\"_parent\"><img src=\"https://colab.research.google.com/assets/colab-badge.svg\" alt=\"Open In Colab\"/></a>"
      ]
    },
    {
      "cell_type": "code",
      "execution_count": null,
      "metadata": {
        "colab": {
          "base_uri": "https://localhost:8080/"
        },
        "id": "a_eexU7wbgNj",
        "outputId": "0422a705-b5a5-48dc-c80e-e14a334f0b25"
      },
      "outputs": [
        {
          "output_type": "stream",
          "name": "stdout",
          "text": [
            "Digite a altura do triãngulo: 25\n",
            "Digite a base do triãngulo: 2\n",
            "A área do triãngulo é: 25.0\n"
          ]
        }
      ],
      "source": [
        "#DESAFIO 3 - VANIA ELIZABETH\n",
        "#CALCULO DA ÁREA DO TRIANGULO.\n",
        "altura = int(input('Digite a altura do triãngulo: '))\n",
        "base = int(input('Digite a base do triãngulo: '))\n",
        "if altura !=0:\n",
        "    area = (base * altura)/2\n",
        "    print('A área do triãngulo é:', area)\n",
        "else:\n",
        "    print (\"valores inválidos\")\n",
        "\n"
      ]
    }
  ]
}