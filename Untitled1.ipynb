{
  "nbformat": 4,
  "nbformat_minor": 0,
  "metadata": {
    "colab": {
      "name": "Untitled1.ipynb",
      "provenance": [],
      "authorship_tag": "ABX9TyMR8htrsTYKi3q957G1zTGh",
      "include_colab_link": true
    },
    "kernelspec": {
      "name": "python3",
      "display_name": "Python 3"
    },
    "language_info": {
      "name": "python"
    }
  },
  "cells": [
    {
      "cell_type": "markdown",
      "metadata": {
        "id": "view-in-github",
        "colab_type": "text"
      },
      "source": [
        "<a href=\"https://colab.research.google.com/github/souza2045/souza2045/blob/main/Untitled1.ipynb\" target=\"_parent\"><img src=\"https://colab.research.google.com/assets/colab-badge.svg\" alt=\"Open In Colab\"/></a>"
      ]
    },
    {
      "cell_type": "code",
      "execution_count": null,
      "metadata": {
        "colab": {
          "base_uri": "https://localhost:8080/"
        },
        "id": "3q2_WS4t0zuy",
        "outputId": "2e97e44d-f4d3-4d9d-acdf-ffbdcd0bdf40"
      },
      "outputs": [
        {
          "output_type": "stream",
          "name": "stdout",
          "text": [
            "Digite o primeiro número: 25\n",
            "Digite o segundo número: 5\n",
            "O quadrado do primeiro número é  625 .\n",
            "A multiplicação dos números é  125 .\n",
            "A divisão dos numeros é :  5.0 .\n"
          ]
        }
      ],
      "source": [
        "#DIVISAO DE DOIS NUMEROS ALEATÓRIOS - Vania - Desafio 2\n",
        "n1 = int(input(\"Digite o primeiro número: \"))\n",
        "n2 = int(input(\"Digite o segundo número: \"))\n",
        "print(\"O quadrado do primeiro número é \", n1*n1, \".\")\n",
        "# DIVISÃO DE NUMEROS ALEATÓRIOS DIFERENTES DE ZERO\n",
        "if n1 and n2 !=0:\n",
        "   print(\"A multiplicação dos números é \", n1*n2, \".\")\n",
        "elif n1 and n2 ==0:\n",
        "  print (\" A multiplicação de qualquer numero por zero é igual a zero\")\n",
        "else:\n",
        "  print(\"ok1\")\n",
        "if n1 and  n2 != 0:\n",
        "  print(\"A divisão dos numeros é : \", n1/n2, \".\")\n",
        "elif n1 and n2 ==0:\n",
        "  print(\" impossivel dividir por zero\")\n",
        "else:\n",
        "  print(\" ok\")\n",
        "\n",
        "#b. Ler uma nota de 0 à 10 de um aluno. \n",
        "\n"
      ]
    }
  ]
}