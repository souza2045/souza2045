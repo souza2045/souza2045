{
  "nbformat": 4,
  "nbformat_minor": 0,
  "metadata": {
    "colab": {
      "name": "Untitled2.ipynb",
      "provenance": [],
      "authorship_tag": "ABX9TyOv55Gzu/9EjzZ30/+uSW+v",
      "include_colab_link": true
    },
    "kernelspec": {
      "name": "python3",
      "display_name": "Python 3"
    },
    "language_info": {
      "name": "python"
    }
  },
  "cells": [
    {
      "cell_type": "markdown",
      "metadata": {
        "id": "view-in-github",
        "colab_type": "text"
      },
      "source": [
        "<a href=\"https://colab.research.google.com/github/souza2045/souza2045/blob/main/Untitled2.ipynb\" target=\"_parent\"><img src=\"https://colab.research.google.com/assets/colab-badge.svg\" alt=\"Open In Colab\"/></a>"
      ]
    },
    {
      "cell_type": "code",
      "execution_count": 95,
      "metadata": {
        "colab": {
          "base_uri": "https://localhost:8080/",
          "height": 134
        },
        "id": "V8v7oYkRxa5z",
        "outputId": "7614d26a-2dde-4f10-efa8-54f5c5fd5b19"
      },
      "outputs": [
        {
          "output_type": "error",
          "ename": "IndentationError",
          "evalue": "ignored",
          "traceback": [
            "\u001b[0;36m  File \u001b[0;32m\"<ipython-input-95-b34dbb43bb4f>\"\u001b[0;36m, line \u001b[0;32m11\u001b[0m\n\u001b[0;31m    print(\"O resultado é:\", n1-n2)\u001b[0m\n\u001b[0m        ^\u001b[0m\n\u001b[0;31mIndentationError\u001b[0m\u001b[0;31m:\u001b[0m expected an indented block\n"
          ]
        }
      ],
      "source": [
        "#DESAFIO 3 - VANIA ELIZABETH\n",
        "#Leia 2 números e mostre o maior e o menor. (Valores inválidos: números menores que -99 e maiores que 99).\n",
        "n1 = int(input(\"Digite um número  entre 0 a 99 : \"))\n",
        "n2 = int(input (\"Digite o segundo número 0 a 99 : \"))\n",
        "if n1>99 or n1<-99:\n",
        "    print(\"Valores inválidos, números maiores que 99 ou menores que -99\")\n",
        "else :\n",
        "    if    n1  <=0:\n",
        "       print (\" O primeiro numero é menor que zero\", n1)  \n",
        "    elif  n1 or n2 !=0:\n",
        "       print(\"O resultado é:\", n1-n2)\n",
        "\n",
        " \n",
        " "
      ]
    }
  ]
}